{
 "cells": [
  {
   "cell_type": "markdown",
   "metadata": {},
   "source": [
    "## Question 1"
   ]
  },
  {
   "cell_type": "markdown",
   "metadata": {},
   "source": [
    "b() - in this first function call, we tell the member variable 'a' to have effect on global variable 'a' \n",
    "      through the use of keyword global.\n",
    "    - we assign the value returned by the function call c(a) to a, which will be 2 (0 + 2).\n",
    "    - value of a = 2.\n",
    "b() - we again call function c(a) and assign it to a which will be 4 (2 + 2).\n",
    "    - value of a = 4.\n",
    "b() - we again call function c(a) and assign it to a which will be 6 (4 + 2).\n",
    "    - value of a = 6.\n",
    "a  - the value of a is now 6 which will be the output."
   ]
  },
  {
   "cell_type": "markdown",
   "metadata": {},
   "source": [
    "## Question 2"
   ]
  },
  {
   "cell_type": "code",
   "execution_count": null,
   "metadata": {},
   "outputs": [],
   "source": [
    "#  function fileLength takes the fullname with extension as argument\n",
    "def fileLength(fileName):\n",
    "    \n",
    "#   append fileName with aboslute path to get full path\n",
    "    fullpath = \"C:\\\\Users\\\\prav3\\\\Documents\\\\\" + fileName\n",
    "    \n",
    "    try:\n",
    "#       opening file in read mode \n",
    "        file = open(fullpath, 'r')\n",
    "#       initializing count variable to keep track of lines \n",
    "        count = 0\n",
    "#       loop\n",
    "        for line in file:\n",
    "            count += 1\n",
    "        print(count)          \n",
    "    except FileNotFoundError:\n",
    "#       custom error message\n",
    "        print('File '+ fileName+  ' not found.')\n",
    "\n",
    "fileLength('currencies.txt')\n",
    "fileLength('currenciessss.txt')\n",
    "\n"
   ]
  },
  {
   "cell_type": "markdown",
   "metadata": {},
   "source": [
    "## Question 3"
   ]
  },
  {
   "cell_type": "code",
   "execution_count": null,
   "metadata": {},
   "outputs": [],
   "source": [
    "class Marsupial:\n",
    "    items = []\n",
    "    \n",
    "    def __init__(self, item=None):\n",
    "        self.items = item or []\n",
    "    def put_in_pouch(self, item):\n",
    "        self.items.append(item)\n",
    "    def pouch_contents(self):\n",
    "        return self.items\n",
    "\n",
    "m = Marsupial()\n",
    "m.put_in_pouch('doll')\n",
    "m.put_in_pouch('firetruck')\n",
    "m.put_in_pouch('kitten')\n",
    "\n",
    "m.pouch_contents()\n"
   ]
  },
  {
   "cell_type": "code",
   "execution_count": null,
   "metadata": {},
   "outputs": [],
   "source": [
    "class Kangaroo(Marsupial):\n",
    "    \n",
    "    def __init__(self, xCoord=0, yCoord=0):\n",
    "        self.x = xCoord\n",
    "        self.y = yCoord\n",
    "        \n",
    "    def __str__(self):\n",
    "        return \"I am a Kangaroo located at coordinates({},{})\".format(self.x,self.y)\n",
    "    \n",
    "    def jump(self, xCoord=0, yCoord =0):\n",
    "        self.x += xCoord\n",
    "        self.y += yCoord\n",
    "        \n",
    "k = Kangaroo(0,0)\n",
    "\n",
    "print(k)"
   ]
  },
  {
   "cell_type": "code",
   "execution_count": null,
   "metadata": {},
   "outputs": [],
   "source": [
    "k.put_in_pouch('apple')\n",
    "k.put_in_pouch('firetruck')\n",
    "k.put_in_pouch('kitten')\n",
    "\n",
    "k.pouch_contents()"
   ]
  },
  {
   "cell_type": "code",
   "execution_count": null,
   "metadata": {},
   "outputs": [],
   "source": [
    "k.jump(1,0)\n",
    "k.jump(1,0)\n",
    "k.jump(1,0)\n",
    "\n",
    "print(k)"
   ]
  },
  {
   "cell_type": "markdown",
   "metadata": {},
   "source": [
    "## Question 4"
   ]
  },
  {
   "cell_type": "code",
   "execution_count": null,
   "metadata": {},
   "outputs": [],
   "source": [
    "class Mortgage(Frame):\n",
    "    \n",
    "    def __init__(self, master):\n",
    "        Frame.__init__(self, master)\n",
    "        labelLoanAmount =Label(self,\n",
    "                                    relief = FLAT,\n",
    "                                    padx=10,\n",
    "                                     pady=10,\n",
    "                                    width=5,\n",
    "                                    text= 'Loan Amount:')\n",
    "        labelLoanAmount.grid(row=1, column=0, columnspan=4, sticky=W+E)\n",
    "\n",
    "        entryLoanAmount= Entry(self)\n",
    "        entryLoanAmount.grid(row=1, column=4, columnspan=4, sticky=W+E)\n",
    "\n",
    "\n",
    "        labelInterestRate =Label(self,\n",
    "                            relief = FLAT,\n",
    "                            padx=15,\n",
    "                            text= 'Interest Rate:')\n",
    "        labelInterestRate.grid(row=2, column=0, columnspan=4, sticky=W+E)\n",
    "\n",
    "        entryInterestRate= Entry(self)\n",
    "        entryInterestRate.grid(row=2, column=4, columnspan=4, sticky=W+E)\n",
    "\n",
    "\n",
    "        labelLoanTerms =Label(self,\n",
    "                            relief = FLAT,\n",
    "                            padx=15,\n",
    "                            text= 'Loan Terms:')\n",
    "        labelLoanTerms.grid(row=3, column=0, columnspan=4, sticky=W+E)\n",
    "\n",
    "        entryLoanTerms= Entry(self)\n",
    "        entryLoanTerms.grid(row=3, column=4, columnspan=4, sticky=W+E)\n",
    "\n",
    "\n",
    "        buttonComputeMortage =Button(self,\n",
    "                            relief = GROOVE,\n",
    "                            padx=15,\n",
    "                            text= 'Compute Mortgage')\n",
    "        buttonComputeMortage.grid(row=4, column=0, columnspan=4, sticky=W+E)\n",
    "        entryComputeMortage= Entry(self)\n",
    "        entryComputeMortage.grid(row=4, column=4, columnspan=4, sticky=W+E)\n"
   ]
  },
  {
   "cell_type": "code",
   "execution_count": null,
   "metadata": {},
   "outputs": [],
   "source": [
    "class Calculator(Frame):\n",
    "    \n",
    "    def __init__(self, master):\n",
    "        Frame.__init__(self, master)\n",
    "        \n",
    "       \n",
    "        entryLoanAmount= Entry(self)\n",
    "        entryLoanAmount.grid(row=0, column=0, columnspan=4,pady =15, sticky=W+E)\n",
    "        \n",
    "        numbers = [['MC',  'M+', 'M-', 'MR'],\n",
    "           ['C', '\\u221A','x\\u00b2','+'],\n",
    "           ['7','8','9','-'],\n",
    "           ['4', '5','6','*'],\n",
    "           ['1','2', '3', '/'],\n",
    "           ['0', '.', '+-', '=']\n",
    "          ]\n",
    "        for r in range(6):\n",
    "            for c in range(4):\n",
    "                button= Button(self,\n",
    "                            relief = GROOVE,\n",
    "                            padx=10,\n",
    "                             pady=10,\n",
    "                            width=5,\n",
    "                            text= numbers[r][c])\n",
    "                button.grid(row=r+1, column=c)"
   ]
  },
  {
   "cell_type": "code",
   "execution_count": null,
   "metadata": {},
   "outputs": [],
   "source": [
    "from tkinter import *\n",
    "root = Tk()\n",
    "\n",
    "mortgage = Mortgage(root)\n",
    "mortgage.pack(side=LEFT)\n",
    "\n",
    "calculator = Calculator(root)\n",
    "calculator.pack(side=RIGHT)\n",
    "\n",
    "\n",
    "root.mainloop()"
   ]
  },
  {
   "cell_type": "markdown",
   "metadata": {},
   "source": [
    "## Question 5"
   ]
  },
  {
   "cell_type": "code",
   "execution_count": null,
   "metadata": {},
   "outputs": [],
   "source": [
    "     \n",
    "    def collatez(number):\n",
    "        try:\n",
    "            num = abs(int(number))\n",
    "                \n",
    "            if num == 1:\n",
    "                print(num)\n",
    "                \n",
    "            #x/2 if even\n",
    "            elif num%2 == 0:\n",
    "                print(num)\n",
    "                num = int(num / 2)\n",
    "                collatez(num)\n",
    "\n",
    "            #3x+1 if odd\n",
    "            else:\n",
    "                print(num)\n",
    "                num = int((3 * num) + 1)\n",
    "                collatez(num)\n",
    "    \n",
    "        except ValueError:\n",
    "            # Handle the exception\n",
    "            print('Please enter an integer')\n",
    "       \n",
    "    collatez(20)\n",
    "\n",
    "        "
   ]
  },
  {
   "cell_type": "markdown",
   "metadata": {},
   "source": [
    "## Question 6"
   ]
  },
  {
   "cell_type": "code",
   "execution_count": null,
   "metadata": {},
   "outputs": [],
   "source": [
    "#this is the string that we'll display to the user\n",
    "a=''\n",
    "\n",
    "def binary(number):\n",
    "    try:\n",
    "#     we changing the value from inside of the function\n",
    "        global a\n",
    "#     changing the input to number even though user enters negative\n",
    "        num = abs(int(number))\n",
    "    \n",
    "#     if the number is 0\n",
    "        if num == 0:\n",
    "#         if the supplied parm was 0, we just return it\n",
    "            if not a:\n",
    "                print(0)\n",
    "#         if the value of a is not empty, it means user enter value > 0, \n",
    "#            so we displya the reverse of string\n",
    "            else:\n",
    "                print(a[::-1])\n",
    "       \n",
    "        else:\n",
    "#           concatenate the quotient from the operation which will be in 1 & 0s, duh\n",
    "            a += str(num%2)\n",
    "#           floor divison\n",
    "            binary(num//2)\n",
    "                        \n",
    "    except ValueError:\n",
    "        print(\"please enter an integer\")\n",
    "        \n",
    "binary(9)\n",
    "\n",
    "\n",
    "\n",
    "# inspired by this code....\n",
    "# def dec2bin(n): 110100\n",
    "#     if n < 0:\n",
    "#         'Must be a positive integer'\n",
    "#     elif n == 0:\n",
    "#         return '0'\n",
    "#     else:\n",
    "#         return dec2bin(n//2) + str(n%2)\n",
    "\n",
    "# dec2bin(3)\n",
    "\n"
   ]
  },
  {
   "cell_type": "markdown",
   "metadata": {},
   "source": [
    "## Question 7"
   ]
  },
  {
   "cell_type": "code",
   "execution_count": null,
   "metadata": {},
   "outputs": [],
   "source": [
    "from html.parser import HTMLParser\n",
    "class MyHTMLParser(HTMLParser):\n",
    "    recordh1 = False\n",
    "    def __init__(self):\n",
    "        HTMLParser.__init__(self)\n",
    "        self.record = False\n",
    "        self.recordName=''\n",
    "\n",
    "    def handle_starttag(self, tag, attrs):\n",
    "        if tag == 'h1' or tag=='h2' or tag=='h3' or tag=='h4' or tag=='h5' or tag=='h6':\n",
    "            self.record = True\n",
    "            self.recordName = tag\n",
    "    def handle_endtag(self, tag):\n",
    "        self.record= False\n",
    "\n",
    "    def handle_data(self, data):\n",
    "        if self.record:\n",
    "            if self.recordName == 'h1':\n",
    "                print (data)\n",
    "            elif self.recordName == 'h2':\n",
    "                print('\\t{}'.format(data))\n",
    "            elif self.recordName == 'h3':\n",
    "                print('\\t\\t{}'.format(data))\n",
    "            elif self.recordName == 'h4':\n",
    "                print('\\t\\t\\t{}'.format(data))\n",
    "            elif self.recordName == 'h5':\n",
    "                print('\\t\\t\\t\\t{}'.format(data))\n",
    "            elif self.recordName == 'h6':\n",
    "                print('\\t\\t\\t\\t\\t{}'.format(data))\n",
    "                    "
   ]
  },
  {
   "cell_type": "code",
   "execution_count": null,
   "metadata": {},
   "outputs": [],
   "source": [
    "fullpath = 'C:\\\\Users\\\\prav3\\\\Documents\\\\wc3.html'\n",
    "content = ''\n",
    "try:\n",
    "#   opening file in read mode \n",
    "    infile = open(fullpath, 'r')\n",
    "    content = infile.read()   \n",
    "    infile.close()\n",
    "except FileNotFoundError:\n",
    "#   custom error message\n",
    "    print('File '+ fileName+  ' not found.')\n",
    "\n",
    "parser = MyHTMLParser()\n",
    "parser.feed(content)"
   ]
  },
  {
   "cell_type": "markdown",
   "metadata": {},
   "source": [
    "## Question 8"
   ]
  },
  {
   "cell_type": "code",
   "execution_count": null,
   "metadata": {},
   "outputs": [],
   "source": [
    "from urllib.request import *\n",
    "from html.parser import *\n",
    "\n",
    "\n",
    "def analyze(url, depth, indent):\n",
    "    content = urlopen(url).read().decode()\n",
    "    collector = Collector(url,depth)\n",
    "    collector.feed(content)\n",
    "    urls=collector.getLinks()\n",
    "\n",
    "    print(\"{}{}\".format(indent * ' ', url))\n",
    "    for link in urls:\n",
    "        if depth > 0:\n",
    "            webdir(link, depth - 1, indent + + 4)\n",
    "    \n",
    "    return urls"
   ]
  },
  {
   "cell_type": "code",
   "execution_count": null,
   "metadata": {},
   "outputs": [],
   "source": [
    "from urllib.parse import urljoin\n",
    "from html.parser import HTMLParser\n",
    "class Collector(HTMLParser):\n",
    "    \n",
    "    def __init__(self, url,depth):\n",
    "        HTMLParser.__init__(self)\n",
    "        self.url = url\n",
    "        self.depth = depth\n",
    "        self.links=[]\n",
    "        self.count = 0\n",
    "\n",
    "\n",
    "    def handle_starttag(self, tag, attrs):\n",
    "        if tag == 'a':\n",
    "            for attr in attrs:\n",
    "                if attr[0] == 'href':\n",
    "                    absolute =  urljoin(self.url, attr[1])\n",
    "                    if(absolute[:4] == 'http'):\n",
    "                        if (self.depth > self.count):\n",
    "                            self.links.append(absolute)\n",
    "                            self.count = self.count + 1\n",
    "           \n",
    "    \n",
    "    def getLinks(self):\n",
    "        return self.links\n",
    "\n"
   ]
  },
  {
   "cell_type": "code",
   "execution_count": null,
   "metadata": {},
   "outputs": [],
   "source": [
    "visited = set()\n",
    "def webdir(url, depth, indent):\n",
    "    \n",
    "    global visited\n",
    "    visited.add(url)\n",
    "    \n",
    "    links =  analyze(url,depth, indent)\n",
    "    \n",
    "    for link in links:\n",
    "        if link not in visited:\n",
    "            try:\n",
    "                crawl1(link,depth,indent)\n",
    "            except:\n",
    "                pass\n",
    "\n",
    "\n",
    "webdir('https://www.w3.org/TR/html401/struct/links.html',3,1)\n"
   ]
  },
  {
   "cell_type": "markdown",
   "metadata": {},
   "source": [
    "## Question 9"
   ]
  },
  {
   "cell_type": "code",
   "execution_count": null,
   "metadata": {},
   "outputs": [],
   "source": [
    "%%!\n",
    "pip install --trusted-host pypi.org ipython-sql"
   ]
  },
  {
   "cell_type": "code",
   "execution_count": null,
   "metadata": {},
   "outputs": [],
   "source": [
    "%load_ext sql"
   ]
  },
  {
   "cell_type": "code",
   "execution_count": null,
   "metadata": {},
   "outputs": [],
   "source": [
    "%sql sqlite://"
   ]
  },
  {
   "cell_type": "code",
   "execution_count": null,
   "metadata": {},
   "outputs": [],
   "source": [
    "%%sql \n",
    "CREATE TABLE WEATHER(City varchar(50),Country varchar(50), Season VARCHAR(50), Temperature float, Rainfall float);\n",
    "INSERT INTO WEATHER VALUES('Mumbai','India', 'Winter', 24.8, 5.9);\n",
    "INSERT INTO WEATHER VALUES('Mumbai','India', 'Spring', 28.4, 16.2);\n",
    "INSERT INTO WEATHER VALUES('Mumbai','India', 'Summer', 27.9, 1549.4);\n",
    "INSERT INTO WEATHER VALUES('Mumbai','India', 'Fall', 27.6, 346.0);\n",
    "INSERT INTO WEATHER VALUES('London','United Kingdom', 'Winter', 4.2, 207.7);\n",
    "INSERT INTO WEATHER VALUES('London','United Kingdom', 'Spring', 8.3, 169.6);\n",
    "INSERT INTO WEATHER VALUES('London','United Kingdom', 'Summer', 15.7, 157.0);\n",
    "INSERT INTO WEATHER VALUES('London','United Kingdom', 'Fall', 10.4, 218.5);\n",
    "INSERT INTO WEATHER VALUES('Cairo','Egypt', 'Winter', 13.6, 16.5);\n",
    "INSERT INTO WEATHER VALUES('Cairo','Egypt', 'Spring', 20.7, 6.5);\n",
    "INSERT INTO WEATHER VALUES('Cairo','Egypt', 'Summer', 27.7, 0.1);\n",
    "INSERT INTO WEATHER VALUES('Cairo','Egypt', 'Fall', 22.2, 4.5);"
   ]
  },
  {
   "cell_type": "markdown",
   "metadata": {},
   "source": [
    "### a) All the temperature data. \n"
   ]
  },
  {
   "cell_type": "code",
   "execution_count": null,
   "metadata": {
    "scrolled": true
   },
   "outputs": [],
   "source": [
    "%%sql\n",
    "SELECT Temperature from WEATHER;"
   ]
  },
  {
   "cell_type": "markdown",
   "metadata": {},
   "source": [
    "### b) All the cities, but without repetition."
   ]
  },
  {
   "cell_type": "code",
   "execution_count": null,
   "metadata": {
    "scrolled": true
   },
   "outputs": [],
   "source": [
    "%%sql\n",
    "SELECT DISTINCT City from WEATHER;"
   ]
  },
  {
   "cell_type": "markdown",
   "metadata": {},
   "source": [
    "### c) All the records for India."
   ]
  },
  {
   "cell_type": "code",
   "execution_count": null,
   "metadata": {},
   "outputs": [],
   "source": [
    "%%sql\n",
    "SELECT  * from WEATHER WHERE Country='India';"
   ]
  },
  {
   "cell_type": "markdown",
   "metadata": {},
   "source": [
    "### d) All the Fall records."
   ]
  },
  {
   "cell_type": "code",
   "execution_count": null,
   "metadata": {},
   "outputs": [],
   "source": [
    "%%sql\n",
    "SELECT  * from WEATHER WHERE Season='Fall';"
   ]
  },
  {
   "cell_type": "markdown",
   "metadata": {},
   "source": [
    "### e) The city, country, and season for which the average rainfall is between 200 and 400 millimeters. "
   ]
  },
  {
   "cell_type": "code",
   "execution_count": null,
   "metadata": {},
   "outputs": [],
   "source": [
    "%%sql\n",
    "SELECT  City, Country, Season\n",
    "from WEATHER \n",
    "WHERE  Rainfall > 400 AND Rainfall < 200;\n",
    "WHERE Rainfall >= '200' \n",
    "AND rainfall <= '400';\n",
    "\n"
   ]
  },
  {
   "cell_type": "markdown",
   "metadata": {},
   "source": [
    "### f) The city and country for which the average Fall temperature is above 20 degrees, in increasing temperature order.\n"
   ]
  },
  {
   "cell_type": "code",
   "execution_count": null,
   "metadata": {},
   "outputs": [],
   "source": [
    "%%sql\n",
    "\n",
    "SELECT  City, Country\n",
    "from WEATHER\n",
    "WHERE Temperature >= '20'\n",
    "ORDER by Temperature ASC;\n"
   ]
  },
  {
   "cell_type": "markdown",
   "metadata": {},
   "source": [
    "### g) The total annual rainfall for Cairo. \n"
   ]
  },
  {
   "cell_type": "code",
   "execution_count": null,
   "metadata": {},
   "outputs": [],
   "source": [
    "%%sql\n",
    "SELECT SUM(Rainfall)\n",
    "FROM WEATHER\n",
    "WHERE City='Cairo';"
   ]
  },
  {
   "cell_type": "markdown",
   "metadata": {},
   "source": [
    "### h) The total rainfall for each season.\n"
   ]
  },
  {
   "cell_type": "code",
   "execution_count": null,
   "metadata": {},
   "outputs": [],
   "source": [
    "%%sql\n",
    "\n",
    "\n",
    "SELECT Season, SUM(Rainfall)\n",
    "FROM WEATHER\n",
    "GROUP BY Season;\n"
   ]
  },
  {
   "cell_type": "markdown",
   "metadata": {},
   "source": [
    "## Question 10"
   ]
  },
  {
   "cell_type": "markdown",
   "metadata": {},
   "source": [
    "### 10.a"
   ]
  },
  {
   "cell_type": "code",
   "execution_count": null,
   "metadata": {},
   "outputs": [],
   "source": [
    "words = ['The', 'quick', 'brown', 'fox', 'jumps', 'over', 'the', 'lazy', 'dog']\n",
    "words = [word.upper() for word in words]\n",
    "words"
   ]
  },
  {
   "cell_type": "markdown",
   "metadata": {},
   "source": [
    "### 10.b"
   ]
  },
  {
   "cell_type": "code",
   "execution_count": null,
   "metadata": {},
   "outputs": [],
   "source": [
    "words = ['The', 'quick', 'brown', 'fox', 'jumps', 'over', 'the', 'lazy', 'dog']\n",
    "words = [word.lower() for word in words]\n",
    "words"
   ]
  },
  {
   "cell_type": "markdown",
   "metadata": {},
   "source": [
    "### 10.c"
   ]
  },
  {
   "cell_type": "code",
   "execution_count": null,
   "metadata": {},
   "outputs": [],
   "source": [
    "words = ['The', 'quick', 'brown', 'fox', 'jumps', 'over', 'the', 'lazy', 'dog']\n",
    "words = [len(word) for word in words]\n",
    "words"
   ]
  },
  {
   "cell_type": "markdown",
   "metadata": {},
   "source": [
    "### 10.d"
   ]
  },
  {
   "cell_type": "code",
   "execution_count": null,
   "metadata": {},
   "outputs": [],
   "source": [
    "words = ['The', 'quick', 'brown', 'fox', 'jumps', 'over', 'the', 'lazy', 'dog']\n",
    "words = [ (word.upper(),word.lower(),len(word)) for word in words]\n",
    "words"
   ]
  },
  {
   "cell_type": "markdown",
   "metadata": {},
   "source": [
    "### 10.e"
   ]
  },
  {
   "cell_type": "code",
   "execution_count": null,
   "metadata": {},
   "outputs": [],
   "source": [
    "words = ['The', 'quick', 'brown', 'fox', 'jumps', 'over', 'the', 'lazy', 'dog']\n",
    "words = [word for word in words if len(word) >= 4]\n",
    "words"
   ]
  }
 ],
 "metadata": {
  "kernelspec": {
   "display_name": "Python 3",
   "language": "python",
   "name": "python3"
  },
  "language_info": {
   "codemirror_mode": {
    "name": "ipython",
    "version": 3
   },
   "file_extension": ".py",
   "mimetype": "text/x-python",
   "name": "python",
   "nbconvert_exporter": "python",
   "pygments_lexer": "ipython3",
   "version": "3.7.6"
  }
 },
 "nbformat": 4,
 "nbformat_minor": 4
}
